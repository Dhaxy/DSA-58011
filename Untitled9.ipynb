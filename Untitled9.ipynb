{
  "nbformat": 4,
  "nbformat_minor": 0,
  "metadata": {
    "colab": {
      "name": "Untitled9.ipynb",
      "provenance": [],
      "authorship_tag": "ABX9TyPHxlW6T+abI4R1Jdu2Bxwm",
      "include_colab_link": true
    },
    "kernelspec": {
      "name": "python3",
      "display_name": "Python 3"
    },
    "language_info": {
      "name": "python"
    }
  },
  "cells": [
    {
      "cell_type": "markdown",
      "metadata": {
        "id": "view-in-github",
        "colab_type": "text"
      },
      "source": [
        "<a href=\"https://colab.research.google.com/github/Dhaxy/DSA-58011/blob/main/Untitled9.ipynb\" target=\"_parent\"><img src=\"https://colab.research.google.com/assets/colab-badge.svg\" alt=\"Open In Colab\"/></a>"
      ]
    },
    {
      "cell_type": "code",
      "execution_count": 2,
      "metadata": {
        "colab": {
          "base_uri": "https://localhost:8080/"
        },
        "id": "l2ai6MZ-IKNj",
        "outputId": "9347c4f7-d8f4-4a40-da68-fcccbbce2994"
      },
      "outputs": [
        {
          "output_type": "stream",
          "name": "stdout",
          "text": [
            "12.56\n"
          ]
        }
      ],
      "source": [
        "class Circle:\n",
        "  def __init__(self,pi,radius):\n",
        "    self.pi = pi\n",
        "    self.radius = radius\n",
        "  \n",
        "  def Area(self):\n",
        "    print(self.pi * self.radius * self.radius)\n",
        "\n",
        "circle = Circle(3.14,2)\n",
        "circle.Area()"
      ]
    }
  ]
}