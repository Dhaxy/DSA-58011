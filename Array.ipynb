{
  "nbformat": 4,
  "nbformat_minor": 0,
  "metadata": {
    "colab": {
      "name": "Array.ipynb",
      "provenance": [],
      "authorship_tag": "ABX9TyMeAFhKGo/5CqZ/g1TJtC8Z",
      "include_colab_link": true
    },
    "kernelspec": {
      "name": "python3",
      "display_name": "Python 3"
    },
    "language_info": {
      "name": "python"
    }
  },
  "cells": [
    {
      "cell_type": "markdown",
      "metadata": {
        "id": "view-in-github",
        "colab_type": "text"
      },
      "source": [
        "<a href=\"https://colab.research.google.com/github/Dhaxy/DSA-58011/blob/main/Array.ipynb\" target=\"_parent\"><img src=\"https://colab.research.google.com/assets/colab-badge.svg\" alt=\"Open In Colab\"/></a>"
      ]
    },
    {
      "cell_type": "markdown",
      "source": [
        "Accessing the Elements in the Array"
      ],
      "metadata": {
        "id": "W3M9nCx9Hrad"
      }
    },
    {
      "cell_type": "code",
      "source": [
        "animals = ['cat','dog','fish']\n",
        "x = animals[0]\n",
        "print(x)"
      ],
      "metadata": {
        "colab": {
          "base_uri": "https://localhost:8080/"
        },
        "id": "z7kOoYU6HuMU",
        "outputId": "7640f3cb-e451-4122-815c-46dfb4d9b55d"
      },
      "execution_count": 3,
      "outputs": [
        {
          "output_type": "stream",
          "name": "stdout",
          "text": [
            "cat\n"
          ]
        }
      ]
    },
    {
      "cell_type": "markdown",
      "source": [
        "Modifying the Elements in the Array"
      ],
      "metadata": {
        "id": "muML11f9Hwr2"
      }
    },
    {
      "cell_type": "code",
      "source": [
        "animals = ['cat','dog','fish']\n",
        "animals[0] = 'monkey'\n",
        "x=animals[0]\n",
        "x = len(animals)\n",
        "print(x)"
      ],
      "metadata": {
        "colab": {
          "base_uri": "https://localhost:8080/"
        },
        "id": "rEEGptW_H5Zd",
        "outputId": "d8e6f173-6c4d-4fad-d662-092b99116192"
      },
      "execution_count": 4,
      "outputs": [
        {
          "output_type": "stream",
          "name": "stdout",
          "text": [
            "3\n"
          ]
        }
      ]
    },
    {
      "cell_type": "markdown",
      "source": [
        "Looping array Elements"
      ],
      "metadata": {
        "id": "JmyvBsMdH7EI"
      }
    },
    {
      "cell_type": "code",
      "source": [
        "animals = ['cat','dog','fish']\n",
        "for x in animals:\n",
        "  print(x)"
      ],
      "metadata": {
        "colab": {
          "base_uri": "https://localhost:8080/"
        },
        "id": "8zyCEsMSH9M_",
        "outputId": "c62622f8-d040-431a-c53d-ca77995b7d6a"
      },
      "execution_count": 5,
      "outputs": [
        {
          "output_type": "stream",
          "name": "stdout",
          "text": [
            "cat\n",
            "dog\n",
            "fish\n"
          ]
        }
      ]
    },
    {
      "cell_type": "markdown",
      "source": [
        "Adding Elements in the Array"
      ],
      "metadata": {
        "id": "6aMibhrsH-zU"
      }
    },
    {
      "cell_type": "code",
      "source": [
        "animals = ['cat','dog','fish']\n",
        "animals.append('monkey')\n",
        "print(animals)"
      ],
      "metadata": {
        "colab": {
          "base_uri": "https://localhost:8080/"
        },
        "id": "Ecqu54DIICH9",
        "outputId": "1f185b4c-839d-4206-d8ed-1872483c2f48"
      },
      "execution_count": 6,
      "outputs": [
        {
          "output_type": "stream",
          "name": "stdout",
          "text": [
            "['cat', 'dog', 'fish', 'monkey']\n"
          ]
        }
      ]
    },
    {
      "cell_type": "markdown",
      "source": [
        "Removing an Element in the Array"
      ],
      "metadata": {
        "id": "2hCDiJYHID14"
      }
    },
    {
      "cell_type": "code",
      "source": [
        "animals = ['cat','dog','fish']\n",
        "animals.pop(1)\n",
        "animals.pop(0)\n",
        "print(animals)"
      ],
      "metadata": {
        "colab": {
          "base_uri": "https://localhost:8080/"
        },
        "id": "oemgcHIDIFfF",
        "outputId": "fa648d1f-d9da-455d-d1d6-bc7a3c2128fb"
      },
      "execution_count": 7,
      "outputs": [
        {
          "output_type": "stream",
          "name": "stdout",
          "text": [
            "['fish']\n"
          ]
        }
      ]
    }
  ]
}