{
  "nbformat": 4,
  "nbformat_minor": 0,
  "metadata": {
    "colab": {
      "name": "Untitled8.ipynb",
      "provenance": [],
      "authorship_tag": "ABX9TyM+YVywS5tLOVoJph49aaiC",
      "include_colab_link": true
    },
    "kernelspec": {
      "name": "python3",
      "display_name": "Python 3"
    },
    "language_info": {
      "name": "python"
    }
  },
  "cells": [
    {
      "cell_type": "markdown",
      "metadata": {
        "id": "view-in-github",
        "colab_type": "text"
      },
      "source": [
        "<a href=\"https://colab.research.google.com/github/Dhaxy/DSA-58011/blob/main/Untitled8.ipynb\" target=\"_parent\"><img src=\"https://colab.research.google.com/assets/colab-badge.svg\" alt=\"Open In Colab\"/></a>"
      ]
    },
    {
      "cell_type": "code",
      "execution_count": 2,
      "metadata": {
        "colab": {
          "base_uri": "https://localhost:8080/",
          "height": 130
        },
        "id": "anfq67n9owv1",
        "outputId": "aa33a078-2be8-4aed-9ba1-164c33e4b81a"
      },
      "outputs": [
        {
          "output_type": "error",
          "ename": "SyntaxError",
          "evalue": "ignored",
          "traceback": [
            "\u001b[0;36m  File \u001b[0;32m\"<ipython-input-2-9073ace84c9e>\"\u001b[0;36m, line \u001b[0;32m10\u001b[0m\n\u001b[0;31m    def_init(self,pi,radius):\u001b[0m\n\u001b[0m                             ^\u001b[0m\n\u001b[0;31mSyntaxError\u001b[0m\u001b[0;31m:\u001b[0m invalid syntax\n"
          ]
        }
      ],
      "source": [
        "class Rectangle:\n",
        "  def _init_(self,lenght,width):\n",
        "    self.length = length\n",
        "    self.width = width\n",
        "\n",
        "    def Area(self):\n",
        "      print(self.lengths * self.width)\n",
        "\n",
        "      class circle:\n",
        "        def_init(self,pi,radius):\n",
        "          self.pi = pi \n",
        "          self.radius =radius\n",
        "\n",
        "          def Area(self):\n",
        "            print(self.pi * self.radius *self.redius)\n",
        "            \n"
      ]
    }
  ]
}