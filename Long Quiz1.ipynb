{
  "nbformat": 4,
  "nbformat_minor": 0,
  "metadata": {
    "colab": {
      "provenance": [],
      "authorship_tag": "ABX9TyPHfuUUUMMOKtom/EjU5JwT",
      "include_colab_link": true
    },
    "kernelspec": {
      "name": "python3",
      "display_name": "Python 3"
    },
    "language_info": {
      "name": "python"
    }
  },
  "cells": [
    {
      "cell_type": "markdown",
      "metadata": {
        "id": "view-in-github",
        "colab_type": "text"
      },
      "source": [
        "<a href=\"https://colab.research.google.com/github/Dhaxy/DSA-58011/blob/main/Long%20Quiz1.ipynb\" target=\"_parent\"><img src=\"https://colab.research.google.com/assets/colab-badge.svg\" alt=\"Open In Colab\"/></a>"
      ]
    },
    {
      "cell_type": "markdown",
      "source": [
        "Array"
      ],
      "metadata": {
        "id": "X3pdmM5De3xu"
      }
    },
    {
      "cell_type": "code",
      "source": [
        "arr = [\"Maverek\",\"Dhax\",\"Meriales\"]\n",
        "print(\"Fullname:\",arr)\n",
        "\n",
        "\n",
        "res = arr[::1]\n",
        "print(\"Reverse Fullname:\",res)\n",
        "\n"
      ],
      "metadata": {
        "colab": {
          "base_uri": "https://localhost:8080/"
        },
        "id": "HhNbMTY6e_FY",
        "outputId": "71de15b0-7ff9-4c80-b6e7-528113aa4fe8"
      },
      "execution_count": 2,
      "outputs": [
        {
          "output_type": "stream",
          "name": "stdout",
          "text": [
            "Fullname: ['Maverek', 'Dhax', 'Meriales']\n",
            "Reverse Fullname: ['Maverek', 'Dhax', 'Meriales']\n"
          ]
        }
      ]
    },
    {
      "cell_type": "code",
      "source": [],
      "metadata": {
        "id": "WclUoz0fflZm"
      },
      "execution_count": null,
      "outputs": []
    }
  ]
}