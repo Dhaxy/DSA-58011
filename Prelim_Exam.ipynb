{
  "nbformat": 4,
  "nbformat_minor": 0,
  "metadata": {
    "colab": {
      "provenance": [],
      "authorship_tag": "ABX9TyNg1ZNf35uuHlB/P5G7G6ZM",
      "include_colab_link": true
    },
    "kernelspec": {
      "name": "python3",
      "display_name": "Python 3"
    },
    "language_info": {
      "name": "python"
    }
  },
  "cells": [
    {
      "cell_type": "markdown",
      "metadata": {
        "id": "view-in-github",
        "colab_type": "text"
      },
      "source": [
        "<a href=\"https://colab.research.google.com/github/Dhaxy/DSA-58011/blob/main/Prelim_Exam.ipynb\" target=\"_parent\"><img src=\"https://colab.research.google.com/assets/colab-badge.svg\" alt=\"Open In Colab\"/></a>"
      ]
    },
    {
      "cell_type": "code",
      "execution_count": 2,
      "metadata": {
        "colab": {
          "base_uri": "https://localhost:8080/"
        },
        "id": "H_z_hWZF3Jwr",
        "outputId": "2715cdde-d19e-4ee3-bf8e-96b5044e7a2a"
      },
      "outputs": [
        {
          "output_type": "stream",
          "name": "stdout",
          "text": [
            "Composite Integers less than 10 but greater than 1 : [4, 6, 8, 9, 10]\n",
            "Number of Composite Integers : 5\n"
          ]
        }
      ],
      "source": [
        "CompInt = [4,6,8,9,10]\n",
        "print(\"Composite Integers less than 10 but greater than 1 :\",CompInt)\n",
        "print(\"Number of Composite Integers :\",len(CompInt))"
      ]
    }
  ]
}